{
 "cells": [
  {
   "cell_type": "markdown",
   "id": "d28eebc1-dfc4-4fb3-8b5e-d058be91a39f",
   "metadata": {},
   "source": [
    "# In this tutorial we are going to learn about resnet50 architecture and finetune it for receipt detection"
   ]
  },
  {
   "cell_type": "code",
   "execution_count": 1,
   "id": "258141e7-aa24-4531-9e76-276dcd8b7a61",
   "metadata": {},
   "outputs": [
    {
     "name": "stdout",
     "output_type": "stream",
     "text": [
      "lets starts\n"
     ]
    }
   ],
   "source": [
    "print(\"lets starts\")"
   ]
  },
  {
   "cell_type": "code",
   "execution_count": null,
   "id": "90ddd6be-175d-47ca-825d-fa9ad667bec6",
   "metadata": {},
   "outputs": [],
   "source": []
  }
 ],
 "metadata": {
  "kernelspec": {
   "display_name": "Python 3 (ipykernel)",
   "language": "python",
   "name": "python3"
  },
  "language_info": {
   "codemirror_mode": {
    "name": "ipython",
    "version": 3
   },
   "file_extension": ".py",
   "mimetype": "text/x-python",
   "name": "python",
   "nbconvert_exporter": "python",
   "pygments_lexer": "ipython3",
   "version": "3.8.18"
  }
 },
 "nbformat": 4,
 "nbformat_minor": 5
}
